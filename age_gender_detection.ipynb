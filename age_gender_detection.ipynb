{
 "cells": [
  {
   "cell_type": "code",
   "execution_count": 16,
   "metadata": {},
   "outputs": [],
   "source": [
    "import os\n",
    "import cv2\n",
    "from PIL import Image"
   ]
  },
  {
   "cell_type": "code",
   "execution_count": 26,
   "metadata": {},
   "outputs": [
    {
     "name": "stderr",
     "output_type": "stream",
     "text": [
      "F:\\anaconda_python\\lib\\site-packages\\h5py\\__init__.py:36: FutureWarning: Conversion of the second argument of issubdtype from `float` to `np.floating` is deprecated. In future, it will be treated as `np.float64 == np.dtype(float).type`.\n",
      "  from ._conv import register_converters as _register_converters\n",
      "Using TensorFlow backend.\n"
     ]
    },
    {
     "name": "stdout",
     "output_type": "stream",
     "text": [
      "Populating the interactive namespace from numpy and matplotlib\n"
     ]
    },
    {
     "name": "stderr",
     "output_type": "stream",
     "text": [
      "F:\\anaconda_python\\lib\\site-packages\\IPython\\core\\magics\\pylab.py:160: UserWarning: pylab import has clobbered these variables: ['gray']\n",
      "`%matplotlib` prevents importing * from pylab and numpy\n",
      "  \"\\n`%matplotlib` prevents importing * from pylab and numpy\"\n"
     ]
    }
   ],
   "source": [
    "from keras.models import load_model\n",
    "from keras.callbacks import ModelCheckpoint, LearningRateScheduler\n",
    "from keras.applications.vgg19 import VGG19\n",
    "from keras.preprocessing import image\n",
    "from keras.applications.vgg19 import preprocess_input\n",
    "from matplotlib import pyplot as plt\n",
    "import matplotlib.image as mpimg\n",
    "%pylab inline"
   ]
  },
  {
   "cell_type": "code",
   "execution_count": 21,
   "metadata": {},
   "outputs": [],
   "source": [
    "path1 = \"input_data\"\n",
    "path2 = \"input_data_resized\""
   ]
  },
  {
   "cell_type": "code",
   "execution_count": 22,
   "metadata": {},
   "outputs": [
    {
     "name": "stdout",
     "output_type": "stream",
     "text": [
      "['F_2_0.jpg', 'F_2_1.jpg', 'F_2_10.jpg', 'F_2_100.jpg', 'F_2_101.jpg', 'F_2_102.jpg', 'F_2_103.jpg', 'F_2_104.jpg', 'F_2_105.jpg', 'F_2_106.jpg', 'F_2_107.jpg', 'F_2_108.jpg', 'F_2_109.jpg', 'F_2_11.jpg', 'F_2_110.jpg', 'F_2_111.jpg', 'F_2_112.jpg', 'F_2_113.jpg', 'F_2_114.jpg', 'F_2_115.jpg', 'F_2_116.jpg', 'F_2_117.jpg', 'F_2_118.jpg', 'F_2_119.jpg', 'F_2_12.jpg', 'F_2_120.jpg', 'F_2_121.jpg', 'F_2_122.jpg', 'F_2_123.jpg', 'F_2_124.jpg', 'F_2_125.jpg', 'F_2_126.jpg', 'F_2_127.jpg', 'F_2_128.jpg', 'F_2_129.jpg', 'F_2_13.jpg', 'F_2_130.jpg', 'F_2_131.jpg', 'F_2_132.jpg', 'F_2_133.jpg', 'F_2_134.jpg', 'F_2_135.jpg', 'F_2_136.jpg', 'F_2_137.jpg', 'F_2_138.jpg', 'F_2_139.jpg', 'F_2_14.jpg', 'F_2_140.jpg', 'F_2_141.jpg', 'F_2_142.jpg', 'F_2_143.jpg', 'F_2_144.jpg', 'F_2_145.jpg', 'F_2_146.jpg', 'F_2_147.jpg', 'F_2_148.jpg', 'F_2_149.jpg', 'F_2_15.jpg', 'F_2_150.jpg', 'F_2_151.jpg', 'F_2_152.jpg', 'F_2_153.jpg', 'F_2_154.jpg', 'F_2_155.jpg', 'F_2_156.jpg', 'F_2_157.jpg', 'F_2_158.jpg', 'F_2_159.jpg', 'F_2_16.jpg', 'F_2_160.jpg', 'F_2_161.jpg', 'F_2_162.jpg', 'F_2_163.jpg', 'F_2_164.jpg', 'F_2_165.jpg', 'F_2_166.jpg', 'F_2_167.jpg', 'F_2_168.jpg', 'F_2_169.jpg', 'F_2_17.jpg', 'F_2_170.jpg', 'F_2_171.jpg', 'F_2_172.jpg', 'F_2_173.jpg', 'F_2_174.jpg', 'F_2_175.jpg', 'F_2_176.jpg', 'F_2_177.jpg', 'F_2_178.jpg', 'F_2_179.jpg', 'F_2_18.jpg', 'F_2_180.jpg', 'F_2_181.jpg', 'F_2_182.jpg', 'F_2_183.jpg', 'F_2_184.jpg', 'F_2_185.jpg', 'F_2_186.jpg', 'F_2_187.jpg', 'F_2_188.jpg', 'F_2_189.jpg', 'F_2_19.jpg', 'F_2_190.jpg', 'F_2_191.jpg', 'F_2_192.jpg', 'F_2_193.jpg', 'F_2_194.jpg', 'F_2_195.jpg', 'F_2_196.jpg', 'F_2_197.jpg', 'F_2_198.jpg', 'F_2_199.jpg', 'F_2_2.jpg', 'F_2_20.jpg', 'F_2_200.jpg', 'F_2_201.jpg', 'F_2_202.jpg', 'F_2_203.jpg', 'F_2_204.jpg', 'F_2_205.jpg', 'F_2_206.jpg', 'F_2_207.jpg', 'F_2_208.jpg', 'F_2_209.jpg', 'F_2_21.jpg', 'F_2_210.jpg', 'F_2_211.jpg', 'F_2_212.jpg', 'F_2_213.jpg', 'F_2_214.jpg', 'F_2_215.jpg', 'F_2_216.jpg', 'F_2_217.jpg', 'F_2_218.jpg', 'F_2_219.jpg', 'F_2_22.jpg', 'F_2_220.jpg', 'F_2_221.jpg', 'F_2_222.jpg', 'F_2_223.jpg', 'F_2_224.jpg', 'F_2_225.jpg', 'F_2_226.jpg', 'F_2_227.jpg', 'F_2_228.jpg', 'F_2_229.jpg', 'F_2_23.jpg', 'F_2_230.jpg', 'F_2_231.jpg', 'F_2_232.jpg', 'F_2_233.jpg', 'F_2_234.jpg', 'F_2_235.jpg', 'F_2_236.jpg', 'F_2_237.jpg', 'F_2_238.jpg', 'F_2_239.jpg', 'F_2_24.jpg', 'F_2_240.jpg', 'F_2_241.jpg', 'F_2_242.jpg', 'F_2_243.jpg', 'F_2_244.jpg', 'F_2_245.jpg', 'F_2_246.jpg', 'F_2_247.jpg', 'F_2_248.jpg', 'F_2_249.jpg', 'F_2_25.jpg', 'F_2_250.jpg', 'F_2_251.jpg', 'F_2_252.jpg', 'F_2_253.jpg', 'F_2_254.jpg', 'F_2_255.jpg', 'F_2_256.jpg', 'F_2_257.jpg', 'F_2_258.jpg', 'F_2_259.jpg', 'F_2_26.jpg', 'F_2_260.jpg', 'F_2_261.jpg', 'F_2_262.jpg', 'F_2_263.jpg', 'F_2_264.jpg', 'F_2_265.jpg', 'F_2_27.jpg', 'F_2_28.jpg', 'F_2_29.jpg', 'F_2_3.jpg', 'F_2_30.jpg', 'F_2_31.jpg', 'F_2_32.jpg', 'F_2_33.jpg', 'F_2_34.jpg', 'F_2_35.jpg', 'F_2_36.jpg', 'F_2_37.jpg', 'F_2_38.jpg', 'F_2_39.jpg', 'F_2_4.jpg', 'F_2_40.jpg', 'F_2_41.jpg', 'F_2_42.jpg', 'F_2_43.jpg', 'F_2_44.jpg', 'F_2_45.jpg', 'F_2_46.jpg', 'F_2_47.jpg', 'F_2_48.jpg', 'F_2_49.jpg', 'F_2_5.jpg', 'F_2_50.jpg', 'F_2_51.jpg', 'F_2_52.jpg', 'F_2_53.jpg', 'F_2_54.jpg', 'F_2_55.jpg', 'F_2_56.jpg', 'F_2_57.jpg', 'F_2_58.jpg', 'F_2_59.jpg', 'F_2_6.jpg', 'F_2_60.jpg', 'F_2_61.jpg', 'F_2_62.jpg', 'F_2_63.jpg', 'F_2_64.jpg', 'F_2_65.jpg', 'F_2_66.jpg', 'F_2_67.jpg', 'F_2_68.jpg', 'F_2_69.jpg', 'F_2_7.jpg', 'F_2_70.jpg', 'F_2_71.jpg', 'F_2_72.jpg', 'F_2_73.jpg', 'F_2_74.jpg', 'F_2_75.jpg', 'F_2_76.jpg', 'F_2_77.jpg', 'F_2_78.jpg', 'F_2_79.jpg', 'F_2_8.jpg', 'F_2_80.jpg', 'F_2_81.jpg', 'F_2_82.jpg', 'F_2_83.jpg', 'F_2_84.jpg', 'F_2_85.jpg', 'F_2_86.jpg', 'F_2_87.jpg', 'F_2_88.jpg', 'F_2_89.jpg', 'F_2_9.jpg', 'F_2_90.jpg', 'F_2_91.jpg', 'F_2_92.jpg', 'F_2_93.jpg', 'F_2_94.jpg', 'F_2_95.jpg', 'F_2_96.jpg', 'F_2_97.jpg', 'F_2_98.jpg', 'F_2_99.jpg', 'F_4_10.jpg', 'F_4_11.jpg', 'F_4_12.jpg', 'F_4_13.jpg', 'F_4_14.jpg', 'F_4_15.jpg', 'F_4_16.jpg', 'F_4_17.jpg', 'F_4_18.jpg', 'F_4_19.jpg', 'F_4_20.jpg', 'F_4_21.jpg', 'F_4_22.jpg', 'F_4_23.jpg', 'F_4_24.jpg', 'F_4_25.jpg', 'F_4_26.jpg', 'F_4_27.jpg', 'F_4_28.jpg', 'F_4_29.jpg', 'F_4_30.jpg', 'F_4_31.jpg', 'F_4_32.jpg', 'F_4_33.jpg', 'F_4_34.jpg', 'F_4_35.jpg', 'F_4_36.jpg', 'F_4_37.jpg', 'F_4_38.jpg', 'F_4_39.jpg', 'F_4_40.jpg', 'F_4_7.jpg', 'F_4_8.jpg', 'F_4_9.jpg', 'M_2_0.jpg', 'M_2_1.jpg', 'M_2_10.jpg', 'M_2_100.jpg', 'M_2_101.jpg', 'M_2_102.jpg', 'M_2_103.jpg', 'M_2_104.jpg', 'M_2_105.jpg', 'M_2_106.jpg', 'M_2_107.jpg', 'M_2_108.jpg', 'M_2_109.jpg', 'M_2_11.jpg', 'M_2_110.jpg', 'M_2_111.jpg', 'M_2_112.jpg', 'M_2_113.jpg', 'M_2_114.jpg', 'M_2_115.jpg', 'M_2_116.jpg', 'M_2_117.jpg', 'M_2_118.jpg', 'M_2_119.jpg', 'M_2_12.jpg', 'M_2_120.jpg', 'M_2_121.jpg', 'M_2_122.jpg', 'M_2_123.jpg', 'M_2_124.jpg', 'M_2_125.jpg', 'M_2_126.jpg', 'M_2_127.jpg', 'M_2_128.jpg', 'M_2_129.jpg', 'M_2_13.jpg', 'M_2_130.jpg', 'M_2_131.jpg', 'M_2_132.jpg', 'M_2_133.jpg', 'M_2_134.jpg', 'M_2_135.jpg', 'M_2_136.jpg', 'M_2_137.jpg', 'M_2_138.jpg', 'M_2_139.jpg', 'M_2_14.jpg', 'M_2_140.jpg', 'M_2_141.jpg', 'M_2_142.jpg', 'M_2_143.jpg', 'M_2_144.jpg', 'M_2_145.jpg', 'M_2_146.jpg', 'M_2_147.jpg', 'M_2_148.jpg', 'M_2_149.jpg', 'M_2_15.jpg', 'M_2_150.jpg', 'M_2_151.jpg', 'M_2_152.jpg', 'M_2_153.jpg', 'M_2_154.jpg', 'M_2_155.jpg', 'M_2_156.jpg', 'M_2_157.jpg', 'M_2_16.jpg', 'M_2_163.jpg', 'M_2_164.jpg', 'M_2_165.jpg', 'M_2_166.jpg', 'M_2_167.jpg', 'M_2_168.jpg', 'M_2_169.jpg', 'M_2_17.jpg', 'M_2_170.jpg', 'M_2_171.jpg', 'M_2_172.jpg', 'M_2_173.jpg', 'M_2_174.jpg', 'M_2_175.jpg', 'M_2_176.jpg', 'M_2_177.jpg', 'M_2_178.jpg', 'M_2_179.jpg', 'M_2_18.jpg', 'M_2_180.jpg', 'M_2_181.jpg', 'M_2_182.jpg', 'M_2_183.jpg', 'M_2_184.jpg', 'M_2_185.jpg', 'M_2_186.jpg', 'M_2_187.jpg', 'M_2_188.jpg', 'M_2_189.jpg', 'M_2_19.jpg', 'M_2_190.jpg', 'M_2_191.jpg', 'M_2_192.jpg', 'M_2_193.jpg', 'M_2_194.jpg', 'M_2_195.jpg', 'M_2_196.jpg', 'M_2_197.jpg', 'M_2_198.jpg', 'M_2_199.jpg', 'M_2_2.jpg', 'M_2_20.jpg', 'M_2_200.jpg', 'M_2_201.jpg', 'M_2_202.jpg', 'M_2_203.jpg', 'M_2_204.jpg', 'M_2_205.jpg', 'M_2_206.jpg', 'M_2_207.jpg', 'M_2_208.jpg', 'M_2_209.jpg', 'M_2_21.jpg', 'M_2_210.jpg', 'M_2_211.jpg', 'M_2_212.jpg', 'M_2_213.jpg', 'M_2_214.jpg', 'M_2_215.jpg', 'M_2_216.jpg', 'M_2_217.jpg', 'M_2_218.jpg', 'M_2_219.jpg', 'M_2_22.jpg', 'M_2_220.jpg', 'M_2_221.jpg', 'M_2_222.jpg', 'M_2_223.jpg', 'M_2_224.jpg', 'M_2_225.jpg', 'M_2_226.jpg', 'M_2_227.jpg', 'M_2_228.jpg', 'M_2_229.jpg', 'M_2_23.jpg', 'M_2_230.jpg', 'M_2_231.jpg', 'M_2_232.jpg', 'M_2_233.jpg', 'M_2_234.jpg', 'M_2_235.jpg', 'M_2_236.jpg', 'M_2_237.jpg', 'M_2_238.jpg', 'M_2_239.jpg', 'M_2_24.jpg', 'M_2_240.jpg', 'M_2_241.jpg', 'M_2_242.jpg', 'M_2_243.jpg', 'M_2_244.jpg', 'M_2_245.jpg', 'M_2_246.jpg', 'M_2_247.jpg', 'M_2_248.jpg', 'M_2_249.jpg', 'M_2_25.jpg', 'M_2_250.jpg', 'M_2_251.jpg', 'M_2_252.jpg', 'M_2_253.jpg', 'M_2_254.jpg', 'M_2_255.jpg', 'M_2_256.jpg', 'M_2_257.jpg', 'M_2_258.jpg', 'M_2_259.jpg', 'M_2_26.jpg', 'M_2_260.jpg', 'M_2_261.jpg', 'M_2_262.jpg', 'M_2_263.jpg', 'M_2_264.jpg', 'M_2_265.jpg', 'M_2_266.jpg', 'M_2_267.jpg', 'M_2_268.jpg', 'M_2_269.jpg', 'M_2_27.jpg', 'M_2_270.jpg', 'M_2_271.jpg', 'M_2_272.jpg', 'M_2_273.jpg', 'M_2_274.jpg', 'M_2_275.jpg', 'M_2_276.jpg', 'M_2_277.jpg', 'M_2_278.jpg', 'M_2_279.jpg', 'M_2_28.jpg', 'M_2_280.jpg', 'M_2_281.jpg', 'M_2_282.jpg', 'M_2_283.jpg', 'M_2_284.jpg', 'M_2_285.jpg', 'M_2_286.jpg', 'M_2_287.jpg', 'M_2_288.jpg', 'M_2_289.jpg', 'M_2_29.jpg', 'M_2_290.jpg', 'M_2_291.jpg', 'M_2_293.jpg', 'M_2_294.jpg', 'M_2_296.jpg', 'M_2_297.jpg', 'M_2_298.jpg', 'M_2_3.jpg', 'M_2_30.jpg', 'M_2_300.jpg', 'M_2_301.jpg', 'M_2_302.jpg', 'M_2_303.jpg', 'M_2_304.jpg', 'M_2_305.jpg', 'M_2_306.jpg', 'M_2_307.jpg', 'M_2_31.jpg', 'M_2_32.jpg', 'M_2_33.jpg', 'M_2_34.jpg', 'M_2_35.jpg', 'M_2_36.jpg', 'M_2_37.jpg', 'M_2_38.jpg', 'M_2_39.jpg', 'M_2_4.jpg', 'M_2_40.jpg', 'M_2_41.jpg', 'M_2_42.jpg', 'M_2_43.jpg', 'M_2_44.jpg', 'M_2_45.jpg', 'M_2_46.jpg', 'M_2_47.jpg', 'M_2_48.jpg', 'M_2_49.jpg', 'M_2_5.jpg', 'M_2_50.jpg', 'M_2_51.jpg', 'M_2_52.jpg', 'M_2_53.jpg', 'M_2_54.jpg', 'M_2_55.jpg', 'M_2_56.jpg', 'M_2_57.jpg', 'M_2_58.jpg', 'M_2_59.jpg', 'M_2_6.jpg', 'M_2_60.jpg', 'M_2_61.jpg', 'M_2_62.jpg', 'M_2_63.jpg', 'M_2_64.jpg', 'M_2_65.jpg', 'M_2_66.jpg', 'M_2_67.jpg', 'M_2_68.jpg', 'M_2_69.jpg', 'M_2_7.jpg', 'M_2_70.jpg', 'M_2_71.jpg', 'M_2_72.jpg', 'M_2_73.jpg', 'M_2_74.jpg', 'M_2_75.jpg', 'M_2_76.jpg', 'M_2_77.jpg', 'M_2_78.jpg', 'M_2_79.jpg', 'M_2_8.jpg', 'M_2_80.jpg', 'M_2_81.jpg', 'M_2_82.jpg', 'M_2_83.jpg', 'M_2_84.jpg', 'M_2_85.jpg', 'M_2_86.jpg', 'M_2_87.jpg', 'M_2_88.jpg', 'M_2_89.jpg', 'M_2_9.jpg', 'M_2_90.jpg', 'M_2_91.jpg', 'M_2_92.jpg', 'M_2_93.jpg', 'M_2_94.jpg', 'M_2_95.jpg', 'M_2_96.jpg', 'M_2_97.jpg', 'M_2_98.jpg', 'M_2_99.jpg']\n"
     ]
    }
   ],
   "source": [
    "listing = os.listdir(path1)\n",
    "num_samples = (listing)\n",
    "print(num_samples)"
   ]
  },
  {
   "cell_type": "code",
   "execution_count": 23,
   "metadata": {},
   "outputs": [],
   "source": [
    "img_rows= 224\n",
    "img_cols = 224"
   ]
  },
  {
   "cell_type": "code",
   "execution_count": 24,
   "metadata": {},
   "outputs": [],
   "source": [
    "for file in listing:\n",
    "    im = Image.open(path1 + '\\\\' + file)\n",
    "    img = im.resize((img_rows, img_cols))\n",
    "    gray = img.convert('L')\n",
    "    gray.save(path2 + '\\\\' + file, \"JPEG\")"
   ]
  },
  {
   "cell_type": "code",
   "execution_count": 25,
   "metadata": {},
   "outputs": [],
   "source": [
    "imlist = os.listdir(path2)"
   ]
  },
  {
   "cell_type": "code",
   "execution_count": 27,
   "metadata": {},
   "outputs": [],
   "source": [
    "im1 = array(Image.open('input_data_resized' + '\\\\' + imlist[0]))\n",
    "m, n = im1.shape[0:2]\n",
    "imnbr = len(imlist) #get the number of images"
   ]
  },
  {
   "cell_type": "code",
   "execution_count": 29,
   "metadata": {},
   "outputs": [
    {
     "name": "stdout",
     "output_type": "stream",
     "text": [
      "m 224\n",
      "n 224\n"
     ]
    }
   ],
   "source": [
    "print(\"m\", m)\n",
    "print(\"n\", n)"
   ]
  },
  {
   "cell_type": "code",
   "execution_count": null,
   "metadata": {},
   "outputs": [],
   "source": []
  }
 ],
 "metadata": {
  "kernelspec": {
   "display_name": "Python 3",
   "language": "python",
   "name": "python3"
  },
  "language_info": {
   "codemirror_mode": {
    "name": "ipython",
    "version": 3
   },
   "file_extension": ".py",
   "mimetype": "text/x-python",
   "name": "python",
   "nbconvert_exporter": "python",
   "pygments_lexer": "ipython3",
   "version": "3.6.4"
  }
 },
 "nbformat": 4,
 "nbformat_minor": 2
}
